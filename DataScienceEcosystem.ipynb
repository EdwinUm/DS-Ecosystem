{
 "cells": [
  {
   "cell_type": "markdown",
   "id": "d4fe612f-23d4-42c9-8fa4-b4d87bd91c24",
   "metadata": {},
   "source": [
    "# Data Science Tools and Ecosystem"
   ]
  },
  {
   "cell_type": "markdown",
   "id": "ba0e9ad3-0426-4dfc-a76f-037869d50d7f",
   "metadata": {},
   "source": [
    "In this notebook, Data Science Tools and Ecosystem are summarized."
   ]
  },
  {
   "cell_type": "markdown",
   "id": "7afbcb36-b93e-4a96-a2ca-9e445bc0fb7b",
   "metadata": {},
   "source": [
    "Some of the popular languages that Data Scientists use are:\n",
    "1. Python\n",
    "2. R\n",
    "3. SQL"
   ]
  },
  {
   "cell_type": "markdown",
   "id": "7dbf277e-42e6-4b80-83c6-ca5a26e006bd",
   "metadata": {},
   "source": [
    "Some of the commonly used libraries used by Data Scientists include:\n",
    "1. Pandas\n",
    "2. NumPy\n",
    "3. Matplotlib"
   ]
  },
  {
   "cell_type": "markdown",
   "id": "308f3de6-c70e-4552-a794-0702b1c392e5",
   "metadata": {},
   "source": [
    "| Data Science Tools|\n",
    "| ----------------- |\n",
    "| Jupyter Notebook  |\n",
    "| RStudio           |\n",
    "| Apache Zeppelin   |"
   ]
  },
  {
   "cell_type": "markdown",
   "id": "d049199b-e120-4930-bccb-1490b0b73d42",
   "metadata": {},
   "source": [
    "### Below are a few examples of evaluating arithmetic expressions in Python."
   ]
  },
  {
   "cell_type": "code",
   "execution_count": 6,
   "id": "416e878e-cd5f-42e8-995f-5614b9755304",
   "metadata": {},
   "outputs": [
    {
     "data": {
      "text/plain": [
       "17"
      ]
     },
     "execution_count": 6,
     "metadata": {},
     "output_type": "execute_result"
    }
   ],
   "source": [
    "# A simple arithmetic expression to multiply then add integers\n",
    "(3*4)+5"
   ]
  },
  {
   "cell_type": "code",
   "execution_count": 8,
   "id": "25d75486-dffd-4cb9-a292-2dc96556c16e",
   "metadata": {},
   "outputs": [
    {
     "data": {
      "text/plain": [
       "3.3333333333333335"
      ]
     },
     "execution_count": 8,
     "metadata": {},
     "output_type": "execute_result"
    }
   ],
   "source": [
    "# This will convert 200 minutes to hours by dividing by 60\n",
    "200/60"
   ]
  },
  {
   "cell_type": "markdown",
   "id": "bf79e701-deaa-41f2-bfa3-b951f685238c",
   "metadata": {},
   "source": [
    "**Objectives:**\n",
    "- List popular languages for Data Science\n",
    "- List commonly used libraries in Data Science\n",
    "- Create simple arithmetic expressions\n",
    "- Covert minutes to hours"
   ]
  },
  {
   "cell_type": "code",
   "execution_count": null,
   "id": "fd2dff66-abb1-4e26-b4d6-8b5bee4bccf0",
   "metadata": {},
   "outputs": [],
   "source": []
  }
 ],
 "metadata": {
  "kernelspec": {
   "display_name": "Python 3 (ipykernel)",
   "language": "python",
   "name": "python3"
  },
  "language_info": {
   "codemirror_mode": {
    "name": "ipython",
    "version": 3
   },
   "file_extension": ".py",
   "mimetype": "text/x-python",
   "name": "python",
   "nbconvert_exporter": "python",
   "pygments_lexer": "ipython3",
   "version": "3.11.7"
  }
 },
 "nbformat": 4,
 "nbformat_minor": 5
}
